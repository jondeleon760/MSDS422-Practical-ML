{
 "cells": [
  {
   "cell_type": "markdown",
   "id": "47825316",
   "metadata": {
    "papermill": {
     "duration": 0.022047,
     "end_time": "2021-08-07T01:15:44.231492",
     "exception": false,
     "start_time": "2021-08-07T01:15:44.209445",
     "status": "completed"
    },
    "tags": []
   },
   "source": [
    "# Kannada MNIST Neural Network Challenge\n",
    "\n",
    "This challenge required me to make my first neural network. There was a steep learning curve in the beginning for me, but I learned a lot along the way.\n",
    "\n",
    "The following notebook helped guide me along the way:\n",
    "\n",
    "https://www.kaggle.com/sauravjoshi23/kannada-mnist-comparing-accuracy-of-various-models\n",
    "\n",
    "For this notebook specifically, I will be getting straight to the point of building the neural network and not presenting any eda or data visualizations. For this, please visit my previous notebook in this challenge where I used a random forest classifier with PCA "
   ]
  },
  {
   "cell_type": "code",
   "execution_count": 1,
   "id": "4cf81ee0",
   "metadata": {
    "execution": {
     "iopub.execute_input": "2021-08-07T01:15:44.289647Z",
     "iopub.status.busy": "2021-08-07T01:15:44.288873Z",
     "iopub.status.idle": "2021-08-07T01:15:44.293612Z",
     "shell.execute_reply": "2021-08-07T01:15:44.294108Z",
     "shell.execute_reply.started": "2021-08-06T23:10:39.565041Z"
    },
    "papermill": {
     "duration": 0.039765,
     "end_time": "2021-08-07T01:15:44.294393",
     "exception": false,
     "start_time": "2021-08-07T01:15:44.254628",
     "status": "completed"
    },
    "tags": []
   },
   "outputs": [
    {
     "name": "stdout",
     "output_type": "stream",
     "text": [
      "/kaggle/input/Kannada-MNIST/sample_submission.csv\n",
      "/kaggle/input/Kannada-MNIST/Dig-MNIST.csv\n",
      "/kaggle/input/Kannada-MNIST/train.csv\n",
      "/kaggle/input/Kannada-MNIST/test.csv\n"
     ]
    }
   ],
   "source": [
    "import os\n",
    "for dirname, _, filenames in os.walk('/kaggle/input'):\n",
    "    for filename in filenames:\n",
    "        print(os.path.join(dirname, filename))"
   ]
  },
  {
   "cell_type": "code",
   "execution_count": 2,
   "id": "4119c1ae",
   "metadata": {
    "execution": {
     "iopub.execute_input": "2021-08-07T01:15:44.344298Z",
     "iopub.status.busy": "2021-08-07T01:15:44.343572Z",
     "iopub.status.idle": "2021-08-07T01:15:50.655355Z",
     "shell.execute_reply": "2021-08-07T01:15:50.655850Z",
     "shell.execute_reply.started": "2021-08-06T23:10:40.244441Z"
    },
    "papermill": {
     "duration": 6.339996,
     "end_time": "2021-08-07T01:15:50.656053",
     "exception": false,
     "start_time": "2021-08-07T01:15:44.316057",
     "status": "completed"
    },
    "tags": []
   },
   "outputs": [],
   "source": [
    "import numpy as np \n",
    "import pandas as pd \n",
    "import matplotlib.pyplot as plt\n",
    "from keras.models import Sequential\n",
    "from keras.layers import Dense, Dropout, Lambda, Flatten\n",
    "from keras.optimizers import Adam ,RMSprop\n",
    "from sklearn.model_selection import train_test_split\n",
    "from keras import  backend as K\n",
    "from keras.preprocessing.image import ImageDataGenerator\n",
    "from keras.utils.np_utils import to_categorical\n",
    "from keras.preprocessing import image\n",
    "from keras.layers import Convolution2D, MaxPooling2D\n",
    "from tensorflow.keras import layers, callbacks\n",
    "from keras.layers import BatchNormalization\n",
    "\n"
   ]
  },
  {
   "cell_type": "code",
   "execution_count": 3,
   "id": "95e16498",
   "metadata": {
    "execution": {
     "iopub.execute_input": "2021-08-07T01:15:50.702441Z",
     "iopub.status.busy": "2021-08-07T01:15:50.701461Z",
     "iopub.status.idle": "2021-08-07T01:15:56.370483Z",
     "shell.execute_reply": "2021-08-07T01:15:56.371025Z",
     "shell.execute_reply.started": "2021-08-07T00:11:35.183794Z"
    },
    "papermill": {
     "duration": 5.693659,
     "end_time": "2021-08-07T01:15:56.371203",
     "exception": false,
     "start_time": "2021-08-07T01:15:50.677544",
     "status": "completed"
    },
    "tags": []
   },
   "outputs": [],
   "source": [
    "train = pd.read_csv(\"../input/Kannada-MNIST/train.csv\")\n",
    "test  = pd.read_csv(\"../input/Kannada-MNIST/test.csv\")\n",
    "sample = pd.read_csv('../input/Kannada-MNIST/sample_submission.csv')\n"
   ]
  },
  {
   "cell_type": "code",
   "execution_count": 4,
   "id": "a8baefc2",
   "metadata": {
    "execution": {
     "iopub.execute_input": "2021-08-07T01:15:56.423716Z",
     "iopub.status.busy": "2021-08-07T01:15:56.422740Z",
     "iopub.status.idle": "2021-08-07T01:15:56.452743Z",
     "shell.execute_reply": "2021-08-07T01:15:56.452201Z",
     "shell.execute_reply.started": "2021-08-06T23:10:45.112768Z"
    },
    "papermill": {
     "duration": 0.06043,
     "end_time": "2021-08-07T01:15:56.452892",
     "exception": false,
     "start_time": "2021-08-07T01:15:56.392462",
     "status": "completed"
    },
    "tags": []
   },
   "outputs": [
    {
     "data": {
      "text/html": [
       "<div>\n",
       "<style scoped>\n",
       "    .dataframe tbody tr th:only-of-type {\n",
       "        vertical-align: middle;\n",
       "    }\n",
       "\n",
       "    .dataframe tbody tr th {\n",
       "        vertical-align: top;\n",
       "    }\n",
       "\n",
       "    .dataframe thead th {\n",
       "        text-align: right;\n",
       "    }\n",
       "</style>\n",
       "<table border=\"1\" class=\"dataframe\">\n",
       "  <thead>\n",
       "    <tr style=\"text-align: right;\">\n",
       "      <th></th>\n",
       "      <th>label</th>\n",
       "      <th>pixel0</th>\n",
       "      <th>pixel1</th>\n",
       "      <th>pixel2</th>\n",
       "      <th>pixel3</th>\n",
       "      <th>pixel4</th>\n",
       "      <th>pixel5</th>\n",
       "      <th>pixel6</th>\n",
       "      <th>pixel7</th>\n",
       "      <th>pixel8</th>\n",
       "      <th>...</th>\n",
       "      <th>pixel774</th>\n",
       "      <th>pixel775</th>\n",
       "      <th>pixel776</th>\n",
       "      <th>pixel777</th>\n",
       "      <th>pixel778</th>\n",
       "      <th>pixel779</th>\n",
       "      <th>pixel780</th>\n",
       "      <th>pixel781</th>\n",
       "      <th>pixel782</th>\n",
       "      <th>pixel783</th>\n",
       "    </tr>\n",
       "  </thead>\n",
       "  <tbody>\n",
       "    <tr>\n",
       "      <th>0</th>\n",
       "      <td>0</td>\n",
       "      <td>0</td>\n",
       "      <td>0</td>\n",
       "      <td>0</td>\n",
       "      <td>0</td>\n",
       "      <td>0</td>\n",
       "      <td>0</td>\n",
       "      <td>0</td>\n",
       "      <td>0</td>\n",
       "      <td>0</td>\n",
       "      <td>...</td>\n",
       "      <td>0</td>\n",
       "      <td>0</td>\n",
       "      <td>0</td>\n",
       "      <td>0</td>\n",
       "      <td>0</td>\n",
       "      <td>0</td>\n",
       "      <td>0</td>\n",
       "      <td>0</td>\n",
       "      <td>0</td>\n",
       "      <td>0</td>\n",
       "    </tr>\n",
       "    <tr>\n",
       "      <th>1</th>\n",
       "      <td>1</td>\n",
       "      <td>0</td>\n",
       "      <td>0</td>\n",
       "      <td>0</td>\n",
       "      <td>0</td>\n",
       "      <td>0</td>\n",
       "      <td>0</td>\n",
       "      <td>0</td>\n",
       "      <td>0</td>\n",
       "      <td>0</td>\n",
       "      <td>...</td>\n",
       "      <td>0</td>\n",
       "      <td>0</td>\n",
       "      <td>0</td>\n",
       "      <td>0</td>\n",
       "      <td>0</td>\n",
       "      <td>0</td>\n",
       "      <td>0</td>\n",
       "      <td>0</td>\n",
       "      <td>0</td>\n",
       "      <td>0</td>\n",
       "    </tr>\n",
       "    <tr>\n",
       "      <th>2</th>\n",
       "      <td>2</td>\n",
       "      <td>0</td>\n",
       "      <td>0</td>\n",
       "      <td>0</td>\n",
       "      <td>0</td>\n",
       "      <td>0</td>\n",
       "      <td>0</td>\n",
       "      <td>0</td>\n",
       "      <td>0</td>\n",
       "      <td>0</td>\n",
       "      <td>...</td>\n",
       "      <td>0</td>\n",
       "      <td>0</td>\n",
       "      <td>0</td>\n",
       "      <td>0</td>\n",
       "      <td>0</td>\n",
       "      <td>0</td>\n",
       "      <td>0</td>\n",
       "      <td>0</td>\n",
       "      <td>0</td>\n",
       "      <td>0</td>\n",
       "    </tr>\n",
       "    <tr>\n",
       "      <th>3</th>\n",
       "      <td>3</td>\n",
       "      <td>0</td>\n",
       "      <td>0</td>\n",
       "      <td>0</td>\n",
       "      <td>0</td>\n",
       "      <td>0</td>\n",
       "      <td>0</td>\n",
       "      <td>0</td>\n",
       "      <td>0</td>\n",
       "      <td>0</td>\n",
       "      <td>...</td>\n",
       "      <td>0</td>\n",
       "      <td>0</td>\n",
       "      <td>0</td>\n",
       "      <td>0</td>\n",
       "      <td>0</td>\n",
       "      <td>0</td>\n",
       "      <td>0</td>\n",
       "      <td>0</td>\n",
       "      <td>0</td>\n",
       "      <td>0</td>\n",
       "    </tr>\n",
       "    <tr>\n",
       "      <th>4</th>\n",
       "      <td>4</td>\n",
       "      <td>0</td>\n",
       "      <td>0</td>\n",
       "      <td>0</td>\n",
       "      <td>0</td>\n",
       "      <td>0</td>\n",
       "      <td>0</td>\n",
       "      <td>0</td>\n",
       "      <td>0</td>\n",
       "      <td>0</td>\n",
       "      <td>...</td>\n",
       "      <td>0</td>\n",
       "      <td>0</td>\n",
       "      <td>0</td>\n",
       "      <td>0</td>\n",
       "      <td>0</td>\n",
       "      <td>0</td>\n",
       "      <td>0</td>\n",
       "      <td>0</td>\n",
       "      <td>0</td>\n",
       "      <td>0</td>\n",
       "    </tr>\n",
       "  </tbody>\n",
       "</table>\n",
       "<p>5 rows × 785 columns</p>\n",
       "</div>"
      ],
      "text/plain": [
       "   label  pixel0  pixel1  pixel2  pixel3  pixel4  pixel5  pixel6  pixel7  \\\n",
       "0      0       0       0       0       0       0       0       0       0   \n",
       "1      1       0       0       0       0       0       0       0       0   \n",
       "2      2       0       0       0       0       0       0       0       0   \n",
       "3      3       0       0       0       0       0       0       0       0   \n",
       "4      4       0       0       0       0       0       0       0       0   \n",
       "\n",
       "   pixel8  ...  pixel774  pixel775  pixel776  pixel777  pixel778  pixel779  \\\n",
       "0       0  ...         0         0         0         0         0         0   \n",
       "1       0  ...         0         0         0         0         0         0   \n",
       "2       0  ...         0         0         0         0         0         0   \n",
       "3       0  ...         0         0         0         0         0         0   \n",
       "4       0  ...         0         0         0         0         0         0   \n",
       "\n",
       "   pixel780  pixel781  pixel782  pixel783  \n",
       "0         0         0         0         0  \n",
       "1         0         0         0         0  \n",
       "2         0         0         0         0  \n",
       "3         0         0         0         0  \n",
       "4         0         0         0         0  \n",
       "\n",
       "[5 rows x 785 columns]"
      ]
     },
     "execution_count": 4,
     "metadata": {},
     "output_type": "execute_result"
    }
   ],
   "source": [
    "train.head()"
   ]
  },
  {
   "cell_type": "code",
   "execution_count": 5,
   "id": "8c8625a1",
   "metadata": {
    "execution": {
     "iopub.execute_input": "2021-08-07T01:15:56.514336Z",
     "iopub.status.busy": "2021-08-07T01:15:56.502636Z",
     "iopub.status.idle": "2021-08-07T01:15:56.520228Z",
     "shell.execute_reply": "2021-08-07T01:15:56.519697Z",
     "shell.execute_reply.started": "2021-08-06T23:10:45.133773Z"
    },
    "papermill": {
     "duration": 0.04551,
     "end_time": "2021-08-07T01:15:56.520371",
     "exception": false,
     "start_time": "2021-08-07T01:15:56.474861",
     "status": "completed"
    },
    "tags": []
   },
   "outputs": [
    {
     "data": {
      "text/html": [
       "<div>\n",
       "<style scoped>\n",
       "    .dataframe tbody tr th:only-of-type {\n",
       "        vertical-align: middle;\n",
       "    }\n",
       "\n",
       "    .dataframe tbody tr th {\n",
       "        vertical-align: top;\n",
       "    }\n",
       "\n",
       "    .dataframe thead th {\n",
       "        text-align: right;\n",
       "    }\n",
       "</style>\n",
       "<table border=\"1\" class=\"dataframe\">\n",
       "  <thead>\n",
       "    <tr style=\"text-align: right;\">\n",
       "      <th></th>\n",
       "      <th>id</th>\n",
       "      <th>pixel0</th>\n",
       "      <th>pixel1</th>\n",
       "      <th>pixel2</th>\n",
       "      <th>pixel3</th>\n",
       "      <th>pixel4</th>\n",
       "      <th>pixel5</th>\n",
       "      <th>pixel6</th>\n",
       "      <th>pixel7</th>\n",
       "      <th>pixel8</th>\n",
       "      <th>...</th>\n",
       "      <th>pixel774</th>\n",
       "      <th>pixel775</th>\n",
       "      <th>pixel776</th>\n",
       "      <th>pixel777</th>\n",
       "      <th>pixel778</th>\n",
       "      <th>pixel779</th>\n",
       "      <th>pixel780</th>\n",
       "      <th>pixel781</th>\n",
       "      <th>pixel782</th>\n",
       "      <th>pixel783</th>\n",
       "    </tr>\n",
       "  </thead>\n",
       "  <tbody>\n",
       "    <tr>\n",
       "      <th>0</th>\n",
       "      <td>0</td>\n",
       "      <td>0</td>\n",
       "      <td>0</td>\n",
       "      <td>0</td>\n",
       "      <td>0</td>\n",
       "      <td>0</td>\n",
       "      <td>0</td>\n",
       "      <td>0</td>\n",
       "      <td>0</td>\n",
       "      <td>0</td>\n",
       "      <td>...</td>\n",
       "      <td>0</td>\n",
       "      <td>0</td>\n",
       "      <td>0</td>\n",
       "      <td>0</td>\n",
       "      <td>0</td>\n",
       "      <td>0</td>\n",
       "      <td>0</td>\n",
       "      <td>0</td>\n",
       "      <td>0</td>\n",
       "      <td>0</td>\n",
       "    </tr>\n",
       "    <tr>\n",
       "      <th>1</th>\n",
       "      <td>1</td>\n",
       "      <td>0</td>\n",
       "      <td>0</td>\n",
       "      <td>0</td>\n",
       "      <td>0</td>\n",
       "      <td>0</td>\n",
       "      <td>0</td>\n",
       "      <td>0</td>\n",
       "      <td>0</td>\n",
       "      <td>0</td>\n",
       "      <td>...</td>\n",
       "      <td>0</td>\n",
       "      <td>0</td>\n",
       "      <td>0</td>\n",
       "      <td>0</td>\n",
       "      <td>0</td>\n",
       "      <td>0</td>\n",
       "      <td>0</td>\n",
       "      <td>0</td>\n",
       "      <td>0</td>\n",
       "      <td>0</td>\n",
       "    </tr>\n",
       "    <tr>\n",
       "      <th>2</th>\n",
       "      <td>2</td>\n",
       "      <td>0</td>\n",
       "      <td>0</td>\n",
       "      <td>0</td>\n",
       "      <td>0</td>\n",
       "      <td>0</td>\n",
       "      <td>0</td>\n",
       "      <td>0</td>\n",
       "      <td>0</td>\n",
       "      <td>0</td>\n",
       "      <td>...</td>\n",
       "      <td>0</td>\n",
       "      <td>0</td>\n",
       "      <td>0</td>\n",
       "      <td>0</td>\n",
       "      <td>0</td>\n",
       "      <td>0</td>\n",
       "      <td>0</td>\n",
       "      <td>0</td>\n",
       "      <td>0</td>\n",
       "      <td>0</td>\n",
       "    </tr>\n",
       "    <tr>\n",
       "      <th>3</th>\n",
       "      <td>3</td>\n",
       "      <td>0</td>\n",
       "      <td>0</td>\n",
       "      <td>0</td>\n",
       "      <td>0</td>\n",
       "      <td>0</td>\n",
       "      <td>0</td>\n",
       "      <td>0</td>\n",
       "      <td>0</td>\n",
       "      <td>0</td>\n",
       "      <td>...</td>\n",
       "      <td>0</td>\n",
       "      <td>0</td>\n",
       "      <td>0</td>\n",
       "      <td>0</td>\n",
       "      <td>0</td>\n",
       "      <td>0</td>\n",
       "      <td>0</td>\n",
       "      <td>0</td>\n",
       "      <td>0</td>\n",
       "      <td>0</td>\n",
       "    </tr>\n",
       "    <tr>\n",
       "      <th>4</th>\n",
       "      <td>4</td>\n",
       "      <td>0</td>\n",
       "      <td>0</td>\n",
       "      <td>0</td>\n",
       "      <td>0</td>\n",
       "      <td>0</td>\n",
       "      <td>0</td>\n",
       "      <td>0</td>\n",
       "      <td>0</td>\n",
       "      <td>0</td>\n",
       "      <td>...</td>\n",
       "      <td>0</td>\n",
       "      <td>0</td>\n",
       "      <td>0</td>\n",
       "      <td>0</td>\n",
       "      <td>0</td>\n",
       "      <td>0</td>\n",
       "      <td>0</td>\n",
       "      <td>0</td>\n",
       "      <td>0</td>\n",
       "      <td>0</td>\n",
       "    </tr>\n",
       "  </tbody>\n",
       "</table>\n",
       "<p>5 rows × 785 columns</p>\n",
       "</div>"
      ],
      "text/plain": [
       "   id  pixel0  pixel1  pixel2  pixel3  pixel4  pixel5  pixel6  pixel7  pixel8  \\\n",
       "0   0       0       0       0       0       0       0       0       0       0   \n",
       "1   1       0       0       0       0       0       0       0       0       0   \n",
       "2   2       0       0       0       0       0       0       0       0       0   \n",
       "3   3       0       0       0       0       0       0       0       0       0   \n",
       "4   4       0       0       0       0       0       0       0       0       0   \n",
       "\n",
       "   ...  pixel774  pixel775  pixel776  pixel777  pixel778  pixel779  pixel780  \\\n",
       "0  ...         0         0         0         0         0         0         0   \n",
       "1  ...         0         0         0         0         0         0         0   \n",
       "2  ...         0         0         0         0         0         0         0   \n",
       "3  ...         0         0         0         0         0         0         0   \n",
       "4  ...         0         0         0         0         0         0         0   \n",
       "\n",
       "   pixel781  pixel782  pixel783  \n",
       "0         0         0         0  \n",
       "1         0         0         0  \n",
       "2         0         0         0  \n",
       "3         0         0         0  \n",
       "4         0         0         0  \n",
       "\n",
       "[5 rows x 785 columns]"
      ]
     },
     "execution_count": 5,
     "metadata": {},
     "output_type": "execute_result"
    }
   ],
   "source": [
    "test.head()"
   ]
  },
  {
   "cell_type": "markdown",
   "id": "53ca9f8d",
   "metadata": {
    "papermill": {
     "duration": 0.021941,
     "end_time": "2021-08-07T01:15:56.565005",
     "exception": false,
     "start_time": "2021-08-07T01:15:56.543064",
     "status": "completed"
    },
    "tags": []
   },
   "source": [
    "## Split features and test"
   ]
  },
  {
   "cell_type": "code",
   "execution_count": 6,
   "id": "87551d46",
   "metadata": {
    "execution": {
     "iopub.execute_input": "2021-08-07T01:15:56.616193Z",
     "iopub.status.busy": "2021-08-07T01:15:56.615499Z",
     "iopub.status.idle": "2021-08-07T01:15:56.681327Z",
     "shell.execute_reply": "2021-08-07T01:15:56.680771Z",
     "shell.execute_reply.started": "2021-08-06T23:10:45.159847Z"
    },
    "papermill": {
     "duration": 0.093516,
     "end_time": "2021-08-07T01:15:56.681474",
     "exception": false,
     "start_time": "2021-08-07T01:15:56.587958",
     "status": "completed"
    },
    "tags": []
   },
   "outputs": [],
   "source": [
    "X_train = (train.iloc[:,1:].values).astype('float32')\n",
    "y_train = train.iloc[:,0].values.astype('int32')\n",
    "X_test = (test.iloc[:,1:].values).astype('float32')"
   ]
  },
  {
   "cell_type": "code",
   "execution_count": 7,
   "id": "49c8dfdc",
   "metadata": {
    "execution": {
     "iopub.execute_input": "2021-08-07T01:15:56.732247Z",
     "iopub.status.busy": "2021-08-07T01:15:56.731420Z",
     "iopub.status.idle": "2021-08-07T01:15:56.736786Z",
     "shell.execute_reply": "2021-08-07T01:15:56.737297Z",
     "shell.execute_reply.started": "2021-08-06T23:10:45.276775Z"
    },
    "papermill": {
     "duration": 0.033731,
     "end_time": "2021-08-07T01:15:56.737486",
     "exception": false,
     "start_time": "2021-08-07T01:15:56.703755",
     "status": "completed"
    },
    "tags": []
   },
   "outputs": [
    {
     "data": {
      "text/plain": [
       "array([[0., 0., 0., ..., 0., 0., 0.],\n",
       "       [0., 0., 0., ..., 0., 0., 0.],\n",
       "       [0., 0., 0., ..., 0., 0., 0.],\n",
       "       ...,\n",
       "       [0., 0., 0., ..., 0., 0., 0.],\n",
       "       [0., 0., 0., ..., 0., 0., 0.],\n",
       "       [0., 0., 0., ..., 0., 0., 0.]], dtype=float32)"
      ]
     },
     "execution_count": 7,
     "metadata": {},
     "output_type": "execute_result"
    }
   ],
   "source": [
    "X_train"
   ]
  },
  {
   "cell_type": "markdown",
   "id": "ba9c273b",
   "metadata": {
    "papermill": {
     "duration": 0.022577,
     "end_time": "2021-08-07T01:15:56.784988",
     "exception": false,
     "start_time": "2021-08-07T01:15:56.762411",
     "status": "completed"
    },
    "tags": []
   },
   "source": [
    "## Transforming data to be 4 dimensional"
   ]
  },
  {
   "cell_type": "code",
   "execution_count": 8,
   "id": "ba9dd639",
   "metadata": {
    "execution": {
     "iopub.execute_input": "2021-08-07T01:15:56.838152Z",
     "iopub.status.busy": "2021-08-07T01:15:56.837139Z",
     "iopub.status.idle": "2021-08-07T01:15:56.840718Z",
     "shell.execute_reply": "2021-08-07T01:15:56.841251Z",
     "shell.execute_reply.started": "2021-08-06T23:10:45.284992Z"
    },
    "papermill": {
     "duration": 0.03364,
     "end_time": "2021-08-07T01:15:56.841420",
     "exception": false,
     "start_time": "2021-08-07T01:15:56.807780",
     "status": "completed"
    },
    "tags": []
   },
   "outputs": [
    {
     "name": "stdout",
     "output_type": "stream",
     "text": [
      "(60000, 28, 28, 1)\n",
      "(5000, 28, 28, 1)\n"
     ]
    }
   ],
   "source": [
    "X_train = X_train.reshape(X_train.shape[0],28,28,1) \n",
    "X_test = X_test.reshape(X_test.shape[0],28,28,1) \n",
    "\n",
    "print(X_train.shape) \n",
    "print(X_test.shape)"
   ]
  },
  {
   "cell_type": "markdown",
   "id": "05511728",
   "metadata": {
    "papermill": {
     "duration": 0.023177,
     "end_time": "2021-08-07T01:15:56.887653",
     "exception": false,
     "start_time": "2021-08-07T01:15:56.864476",
     "status": "completed"
    },
    "tags": []
   },
   "source": [
    "## Standardizing the data"
   ]
  },
  {
   "cell_type": "code",
   "execution_count": 9,
   "id": "68e1d274",
   "metadata": {
    "execution": {
     "iopub.execute_input": "2021-08-07T01:15:56.937024Z",
     "iopub.status.busy": "2021-08-07T01:15:56.936369Z",
     "iopub.status.idle": "2021-08-07T01:15:57.085516Z",
     "shell.execute_reply": "2021-08-07T01:15:57.086053Z",
     "shell.execute_reply.started": "2021-08-06T23:10:45.297567Z"
    },
    "papermill": {
     "duration": 0.175475,
     "end_time": "2021-08-07T01:15:57.086255",
     "exception": false,
     "start_time": "2021-08-07T01:15:56.910780",
     "status": "completed"
    },
    "tags": []
   },
   "outputs": [],
   "source": [
    "meanpx = X_train.mean().astype(np.float32)\n",
    "stdpx = X_train.std().astype(np.float32)\n",
    "\n",
    "def standardize(x):\n",
    "    return (x-meanpx)/stdpx"
   ]
  },
  {
   "cell_type": "code",
   "execution_count": 10,
   "id": "414cbe2f",
   "metadata": {
    "execution": {
     "iopub.execute_input": "2021-08-07T01:15:57.146480Z",
     "iopub.status.busy": "2021-08-07T01:15:57.144865Z",
     "iopub.status.idle": "2021-08-07T01:15:57.153746Z",
     "shell.execute_reply": "2021-08-07T01:15:57.153003Z",
     "shell.execute_reply.started": "2021-08-06T23:10:45.46636Z"
    },
    "papermill": {
     "duration": 0.044157,
     "end_time": "2021-08-07T01:15:57.153977",
     "exception": false,
     "start_time": "2021-08-07T01:15:57.109820",
     "status": "completed"
    },
    "tags": []
   },
   "outputs": [
    {
     "data": {
      "text/plain": [
       "10"
      ]
     },
     "execution_count": 10,
     "metadata": {},
     "output_type": "execute_result"
    }
   ],
   "source": [
    "y_train = to_categorical(y_train)\n",
    "num_classes = y_train.shape[1]\n",
    "num_classes"
   ]
  },
  {
   "cell_type": "markdown",
   "id": "1768c4e6",
   "metadata": {
    "papermill": {
     "duration": 0.027144,
     "end_time": "2021-08-07T01:15:57.218857",
     "exception": false,
     "start_time": "2021-08-07T01:15:57.191713",
     "status": "completed"
    },
    "tags": []
   },
   "source": [
    "## CNN"
   ]
  },
  {
   "cell_type": "code",
   "execution_count": 11,
   "id": "b2593efd",
   "metadata": {
    "execution": {
     "iopub.execute_input": "2021-08-07T01:15:57.272067Z",
     "iopub.status.busy": "2021-08-07T01:15:57.271383Z",
     "iopub.status.idle": "2021-08-07T01:15:57.273850Z",
     "shell.execute_reply": "2021-08-07T01:15:57.274321Z",
     "shell.execute_reply.started": "2021-08-06T23:10:45.70591Z"
    },
    "papermill": {
     "duration": 0.030481,
     "end_time": "2021-08-07T01:15:57.274487",
     "exception": false,
     "start_time": "2021-08-07T01:15:57.244006",
     "status": "completed"
    },
    "tags": []
   },
   "outputs": [],
   "source": [
    "gen = image.ImageDataGenerator()"
   ]
  },
  {
   "cell_type": "code",
   "execution_count": 12,
   "id": "46aedab3",
   "metadata": {
    "execution": {
     "iopub.execute_input": "2021-08-07T01:15:57.328912Z",
     "iopub.status.busy": "2021-08-07T01:15:57.328247Z",
     "iopub.status.idle": "2021-08-07T01:15:58.297306Z",
     "shell.execute_reply": "2021-08-07T01:15:58.296624Z",
     "shell.execute_reply.started": "2021-08-06T23:10:46.536632Z"
    },
    "papermill": {
     "duration": 0.999661,
     "end_time": "2021-08-07T01:15:58.297445",
     "exception": false,
     "start_time": "2021-08-07T01:15:57.297784",
     "status": "completed"
    },
    "tags": []
   },
   "outputs": [],
   "source": [
    "X = X_train\n",
    "y = y_train\n",
    "X_train, X_val, y_train, y_val = train_test_split(X_train, y_train, test_size=0.10, random_state=42)\n",
    "batches = gen.flow(X_train, y_train, batch_size=64)\n",
    "val_batches=gen.flow(X_val, y_val, batch_size=64)"
   ]
  },
  {
   "cell_type": "code",
   "execution_count": 13,
   "id": "7b82366c",
   "metadata": {
    "execution": {
     "iopub.execute_input": "2021-08-07T01:15:58.351558Z",
     "iopub.status.busy": "2021-08-07T01:15:58.350790Z",
     "iopub.status.idle": "2021-08-07T01:15:58.354157Z",
     "shell.execute_reply": "2021-08-07T01:15:58.353610Z",
     "shell.execute_reply.started": "2021-08-06T23:10:47.561117Z"
    },
    "papermill": {
     "duration": 0.033566,
     "end_time": "2021-08-07T01:15:58.354297",
     "exception": false,
     "start_time": "2021-08-07T01:15:58.320731",
     "status": "completed"
    },
    "tags": []
   },
   "outputs": [],
   "source": [
    "def cnn_model():\n",
    "    model = Sequential([\n",
    "        Lambda(standardize, input_shape=(28,28,1)),\n",
    "        Convolution2D(32,(3,3), activation='relu'),\n",
    "        Dropout(0.3),\n",
    "        MaxPooling2D(),\n",
    "        Convolution2D(64,(3,3), activation='relu'),\n",
    "        Dropout(0.3),\n",
    "        MaxPooling2D(),\n",
    "        Flatten(),\n",
    "        Dense(512, activation='relu'),\n",
    "        Dense(10, activation='softmax')\n",
    "        ])\n",
    "    model.compile(Adam(), loss='categorical_crossentropy',\n",
    "                  metrics=['accuracy'])\n",
    "    return model"
   ]
  },
  {
   "cell_type": "code",
   "execution_count": 14,
   "id": "47d8f6f4",
   "metadata": {
    "execution": {
     "iopub.execute_input": "2021-08-07T01:15:58.404417Z",
     "iopub.status.busy": "2021-08-07T01:15:58.403451Z",
     "iopub.status.idle": "2021-08-07T01:15:58.556330Z",
     "shell.execute_reply": "2021-08-07T01:15:58.555759Z",
     "shell.execute_reply.started": "2021-08-06T23:10:48.291337Z"
    },
    "papermill": {
     "duration": 0.178913,
     "end_time": "2021-08-07T01:15:58.556480",
     "exception": false,
     "start_time": "2021-08-07T01:15:58.377567",
     "status": "completed"
    },
    "tags": []
   },
   "outputs": [],
   "source": [
    "model= cnn_model()\n",
    "model.optimizer.lr=0.01"
   ]
  },
  {
   "cell_type": "code",
   "execution_count": 15,
   "id": "51e487df",
   "metadata": {
    "execution": {
     "iopub.execute_input": "2021-08-07T01:15:58.608531Z",
     "iopub.status.busy": "2021-08-07T01:15:58.607795Z",
     "iopub.status.idle": "2021-08-07T01:25:02.627353Z",
     "shell.execute_reply": "2021-08-07T01:25:02.626596Z",
     "shell.execute_reply.started": "2021-08-06T23:36:00.112046Z"
    },
    "papermill": {
     "duration": 544.047515,
     "end_time": "2021-08-07T01:25:02.627554",
     "exception": false,
     "start_time": "2021-08-07T01:15:58.580039",
     "status": "completed"
    },
    "tags": []
   },
   "outputs": [
    {
     "name": "stderr",
     "output_type": "stream",
     "text": [
      "/opt/conda/lib/python3.7/site-packages/tensorflow/python/keras/engine/training.py:1844: UserWarning: `Model.fit_generator` is deprecated and will be removed in a future version. Please use `Model.fit`, which supports generators.\n",
      "  warnings.warn('`Model.fit_generator` is deprecated and '\n"
     ]
    },
    {
     "name": "stdout",
     "output_type": "stream",
     "text": [
      "Epoch 1/15\n",
      "843/843 [==============================] - 40s 47ms/step - loss: 0.5288 - accuracy: 0.8881 - val_loss: 0.0933 - val_accuracy: 0.9742\n",
      "Epoch 2/15\n",
      "843/843 [==============================] - 37s 44ms/step - loss: 0.1224 - accuracy: 0.9637\n",
      "Epoch 3/15\n",
      "843/843 [==============================] - 37s 44ms/step - loss: 0.1101 - accuracy: 0.9678\n",
      "Epoch 4/15\n",
      "843/843 [==============================] - 36s 43ms/step - loss: 0.1071 - accuracy: 0.9697\n",
      "Epoch 5/15\n",
      "843/843 [==============================] - 36s 42ms/step - loss: 0.0936 - accuracy: 0.9737\n",
      "Epoch 6/15\n",
      "843/843 [==============================] - 36s 43ms/step - loss: 0.0935 - accuracy: 0.9730\n",
      "Epoch 7/15\n",
      "843/843 [==============================] - 36s 43ms/step - loss: 0.0908 - accuracy: 0.9739\n",
      "Epoch 8/15\n",
      "843/843 [==============================] - 36s 42ms/step - loss: 0.0895 - accuracy: 0.9741\n",
      "Epoch 9/15\n",
      "843/843 [==============================] - 36s 42ms/step - loss: 0.0814 - accuracy: 0.9760\n",
      "Epoch 10/15\n",
      "843/843 [==============================] - 36s 42ms/step - loss: 0.0878 - accuracy: 0.9764\n",
      "Epoch 11/15\n",
      "843/843 [==============================] - 35s 42ms/step - loss: 0.0889 - accuracy: 0.9754\n",
      "Epoch 12/15\n",
      "843/843 [==============================] - 36s 42ms/step - loss: 0.0926 - accuracy: 0.9744\n",
      "Epoch 13/15\n",
      "843/843 [==============================] - 36s 42ms/step - loss: 0.0799 - accuracy: 0.9770\n",
      "Epoch 14/15\n",
      "843/843 [==============================] - 36s 43ms/step - loss: 0.0869 - accuracy: 0.9771\n",
      "Epoch 15/15\n",
      "843/843 [==============================] - 36s 43ms/step - loss: 0.0785 - accuracy: 0.9778\n"
     ]
    }
   ],
   "source": [
    "history=model.fit_generator(generator=batches, steps_per_epoch=X_train.shape[0]//64, epochs=15, \n",
    "                    validation_data=val_batches, validation_steps=val_batches.n)"
   ]
  },
  {
   "cell_type": "markdown",
   "id": "73ef0014",
   "metadata": {
    "papermill": {
     "duration": 2.04278,
     "end_time": "2021-08-07T01:25:06.763520",
     "exception": false,
     "start_time": "2021-08-07T01:25:04.720740",
     "status": "completed"
    },
    "tags": []
   },
   "source": [
    "15 Epochs took quite a bit of time, let's add in early stopping to save some time"
   ]
  },
  {
   "cell_type": "code",
   "execution_count": 16,
   "id": "18b5a1c4",
   "metadata": {
    "execution": {
     "iopub.execute_input": "2021-08-07T01:25:10.998017Z",
     "iopub.status.busy": "2021-08-07T01:25:10.997330Z",
     "iopub.status.idle": "2021-08-07T01:35:37.220151Z",
     "shell.execute_reply": "2021-08-07T01:35:37.221059Z",
     "shell.execute_reply.started": "2021-08-06T23:52:47.842221Z"
    },
    "papermill": {
     "duration": 628.335459,
     "end_time": "2021-08-07T01:35:37.221293",
     "exception": false,
     "start_time": "2021-08-07T01:25:08.885834",
     "status": "completed"
    },
    "scrolled": true,
    "tags": []
   },
   "outputs": [
    {
     "name": "stdout",
     "output_type": "stream",
     "text": [
      "Epoch 1/20\n",
      "843/843 [==============================] - 37s 44ms/step - loss: 0.0803 - accuracy: 0.9783 - val_loss: 0.0591 - val_accuracy: 0.9833\n",
      "Epoch 2/20\n",
      "843/843 [==============================] - 40s 47ms/step - loss: 0.0816 - accuracy: 0.9785\n",
      "Epoch 3/20\n",
      "843/843 [==============================] - 36s 43ms/step - loss: 0.0744 - accuracy: 0.9794\n",
      "Epoch 4/20\n",
      "843/843 [==============================] - 37s 43ms/step - loss: 0.0816 - accuracy: 0.9782\n",
      "Epoch 5/20\n",
      "843/843 [==============================] - 37s 44ms/step - loss: 0.0791 - accuracy: 0.9790\n",
      "Epoch 6/20\n",
      "843/843 [==============================] - 37s 43ms/step - loss: 0.0805 - accuracy: 0.9783\n",
      "Epoch 7/20\n",
      "843/843 [==============================] - 37s 44ms/step - loss: 0.0824 - accuracy: 0.9779\n",
      "Epoch 8/20\n",
      "843/843 [==============================] - 37s 43ms/step - loss: 0.0706 - accuracy: 0.9801\n",
      "Epoch 9/20\n",
      "843/843 [==============================] - 37s 43ms/step - loss: 0.0777 - accuracy: 0.9790\n",
      "Epoch 10/20\n",
      "843/843 [==============================] - 37s 44ms/step - loss: 0.0697 - accuracy: 0.9814\n",
      "Epoch 11/20\n",
      "843/843 [==============================] - 37s 44ms/step - loss: 0.0731 - accuracy: 0.9803\n",
      "Epoch 12/20\n",
      "843/843 [==============================] - 37s 43ms/step - loss: 0.0675 - accuracy: 0.9809\n",
      "Epoch 13/20\n",
      "843/843 [==============================] - 37s 43ms/step - loss: 0.0713 - accuracy: 0.9808\n",
      "Epoch 14/20\n",
      "843/843 [==============================] - 37s 43ms/step - loss: 0.0679 - accuracy: 0.9807\n",
      "Epoch 15/20\n",
      "843/843 [==============================] - 37s 44ms/step - loss: 0.0707 - accuracy: 0.9808\n",
      "Epoch 16/20\n",
      "843/843 [==============================] - 37s 44ms/step - loss: 0.0697 - accuracy: 0.9813\n",
      "Epoch 17/20\n",
      "843/843 [==============================] - 35s 42ms/step - loss: 0.0681 - accuracy: 0.9824\n"
     ]
    }
   ],
   "source": [
    "#with callback\n",
    "\n",
    "early_stopping = callbacks.EarlyStopping(\n",
    "    monitor='loss', min_delta=0.001, patience=5, verbose=0,\n",
    "    mode='auto', baseline=None, restore_best_weights=True\n",
    ")\n",
    "\n",
    "history=model.fit_generator(generator=batches, steps_per_epoch=X_train.shape[0]//64, epochs=20, \n",
    "                    validation_data=val_batches, validation_steps=val_batches.n, callbacks=[early_stopping])"
   ]
  },
  {
   "cell_type": "markdown",
   "id": "e8c5c0ff",
   "metadata": {
    "papermill": {
     "duration": 4.494418,
     "end_time": "2021-08-07T01:35:46.234175",
     "exception": false,
     "start_time": "2021-08-07T01:35:41.739757",
     "status": "completed"
    },
    "tags": []
   },
   "source": [
    "We can see here that early stopping was called and we only had to run 9 epochs before we started to see a decrease in accuracy. This callback helps us to not only save time, but more importantly prevent overfitting the data."
   ]
  },
  {
   "cell_type": "markdown",
   "id": "7d69a86d",
   "metadata": {
    "papermill": {
     "duration": 4.49323,
     "end_time": "2021-08-07T01:35:55.238461",
     "exception": false,
     "start_time": "2021-08-07T01:35:50.745231",
     "status": "completed"
    },
    "tags": []
   },
   "source": [
    "## Batch Normalization"
   ]
  },
  {
   "cell_type": "code",
   "execution_count": 17,
   "id": "d9218758",
   "metadata": {
    "execution": {
     "iopub.execute_input": "2021-08-07T01:36:04.288087Z",
     "iopub.status.busy": "2021-08-07T01:36:04.287100Z",
     "iopub.status.idle": "2021-08-07T01:36:04.294534Z",
     "shell.execute_reply": "2021-08-07T01:36:04.293878Z",
     "shell.execute_reply.started": "2021-08-06T23:59:23.767934Z"
    },
    "papermill": {
     "duration": 4.587477,
     "end_time": "2021-08-07T01:36:04.294673",
     "exception": false,
     "start_time": "2021-08-07T01:35:59.707196",
     "status": "completed"
    },
    "tags": []
   },
   "outputs": [],
   "source": [
    "def cnn_model_batch():\n",
    "    model = Sequential([\n",
    "        Lambda(standardize, input_shape=(28,28,1)),\n",
    "        Convolution2D(32,(3,3), activation='relu'),\n",
    "        Dropout(0.3),\n",
    "        BatchNormalization(axis=1),\n",
    "        MaxPooling2D(),\n",
    "        Convolution2D(64,(3,3), activation='relu'),\n",
    "        Dropout(0.3),\n",
    "        BatchNormalization(axis=1),\n",
    "        MaxPooling2D(),\n",
    "        Flatten(),\n",
    "        Dense(512, activation='relu'),\n",
    "        Dense(10, activation='softmax')\n",
    "        ])\n",
    "    model.compile(Adam(), loss='categorical_crossentropy',\n",
    "                  metrics=['accuracy'])\n",
    "    return model"
   ]
  },
  {
   "cell_type": "code",
   "execution_count": 18,
   "id": "2f6b1aa1",
   "metadata": {
    "execution": {
     "iopub.execute_input": "2021-08-07T01:36:13.354946Z",
     "iopub.status.busy": "2021-08-07T01:36:13.349990Z",
     "iopub.status.idle": "2021-08-07T01:36:13.439267Z",
     "shell.execute_reply": "2021-08-07T01:36:13.438660Z",
     "shell.execute_reply.started": "2021-08-06T23:59:25.580156Z"
    },
    "papermill": {
     "duration": 4.553636,
     "end_time": "2021-08-07T01:36:13.439418",
     "exception": false,
     "start_time": "2021-08-07T01:36:08.885782",
     "status": "completed"
    },
    "tags": []
   },
   "outputs": [],
   "source": [
    "model= cnn_model_batch()\n",
    "model.optimizer.lr=0.01"
   ]
  },
  {
   "cell_type": "code",
   "execution_count": 19,
   "id": "bdd7714f",
   "metadata": {
    "execution": {
     "iopub.execute_input": "2021-08-07T01:36:22.466337Z",
     "iopub.status.busy": "2021-08-07T01:36:22.465550Z",
     "iopub.status.idle": "2021-08-07T01:53:00.942430Z",
     "shell.execute_reply": "2021-08-07T01:53:00.942989Z",
     "shell.execute_reply.started": "2021-08-06T23:59:28.55075Z"
    },
    "papermill": {
     "duration": 1003.010172,
     "end_time": "2021-08-07T01:53:00.943173",
     "exception": false,
     "start_time": "2021-08-07T01:36:17.933001",
     "status": "completed"
    },
    "tags": []
   },
   "outputs": [
    {
     "name": "stdout",
     "output_type": "stream",
     "text": [
      "Epoch 1/20\n",
      "843/843 [==============================] - 70s 82ms/step - loss: 0.9436 - accuracy: 0.9013 - val_loss: 0.0941 - val_accuracy: 0.9708\n",
      "Epoch 2/20\n",
      "843/843 [==============================] - 66s 78ms/step - loss: 0.0718 - accuracy: 0.9802\n",
      "Epoch 3/20\n",
      "843/843 [==============================] - 65s 77ms/step - loss: 0.0479 - accuracy: 0.9858\n",
      "Epoch 4/20\n",
      "843/843 [==============================] - 65s 78ms/step - loss: 0.0387 - accuracy: 0.9890\n",
      "Epoch 5/20\n",
      "843/843 [==============================] - 66s 78ms/step - loss: 0.0327 - accuracy: 0.9900\n",
      "Epoch 6/20\n",
      "843/843 [==============================] - 66s 79ms/step - loss: 0.0371 - accuracy: 0.9891\n",
      "Epoch 7/20\n",
      "843/843 [==============================] - 66s 78ms/step - loss: 0.0310 - accuracy: 0.9910\n",
      "Epoch 8/20\n",
      "843/843 [==============================] - 67s 79ms/step - loss: 0.0360 - accuracy: 0.9900\n",
      "Epoch 9/20\n",
      "843/843 [==============================] - 66s 79ms/step - loss: 0.0390 - accuracy: 0.9898\n",
      "Epoch 10/20\n",
      "843/843 [==============================] - 66s 79ms/step - loss: 0.0338 - accuracy: 0.9911\n",
      "Epoch 11/20\n",
      "843/843 [==============================] - 66s 79ms/step - loss: 0.0590 - accuracy: 0.9865\n",
      "Epoch 12/20\n",
      "843/843 [==============================] - 66s 79ms/step - loss: 0.0256 - accuracy: 0.9925\n",
      "Epoch 13/20\n",
      "843/843 [==============================] - 67s 79ms/step - loss: 0.0371 - accuracy: 0.9914\n",
      "Epoch 14/20\n",
      "843/843 [==============================] - 67s 79ms/step - loss: 0.0327 - accuracy: 0.9925\n",
      "Epoch 15/20\n",
      "843/843 [==============================] - 67s 80ms/step - loss: 0.0251 - accuracy: 0.9935\n"
     ]
    }
   ],
   "source": [
    "history=model.fit_generator(generator=batches, steps_per_epoch=X_train.shape[0]//64, epochs=20, \n",
    "                    validation_data=val_batches, validation_steps=val_batches.n, callbacks=[early_stopping])"
   ]
  },
  {
   "cell_type": "markdown",
   "id": "bdefddd9",
   "metadata": {
    "papermill": {
     "duration": 8.310144,
     "end_time": "2021-08-07T01:53:17.566990",
     "exception": false,
     "start_time": "2021-08-07T01:53:09.256846",
     "status": "completed"
    },
    "tags": []
   },
   "source": [
    "## Kaggle Submission"
   ]
  },
  {
   "cell_type": "code",
   "execution_count": 20,
   "id": "a3cd4f18",
   "metadata": {
    "execution": {
     "iopub.execute_input": "2021-08-07T01:53:34.287761Z",
     "iopub.status.busy": "2021-08-07T01:53:34.287141Z",
     "iopub.status.idle": "2021-08-07T01:53:36.040618Z",
     "shell.execute_reply": "2021-08-07T01:53:36.040043Z",
     "shell.execute_reply.started": "2021-08-07T00:13:46.662413Z"
    },
    "papermill": {
     "duration": 10.086332,
     "end_time": "2021-08-07T01:53:36.040759",
     "exception": false,
     "start_time": "2021-08-07T01:53:25.954427",
     "status": "completed"
    },
    "tags": []
   },
   "outputs": [],
   "source": [
    "sample[\"label\"] = np.argmax(model.predict(X_test), 1)\n",
    "sample.head()\n",
    "sample.to_csv(\"submission.csv\", index=False, header=True)"
   ]
  }
 ],
 "metadata": {
  "kernelspec": {
   "display_name": "Python 3",
   "language": "python",
   "name": "python3"
  },
  "language_info": {
   "codemirror_mode": {
    "name": "ipython",
    "version": 3
   },
   "file_extension": ".py",
   "mimetype": "text/x-python",
   "name": "python",
   "nbconvert_exporter": "python",
   "pygments_lexer": "ipython3",
   "version": "3.7.10"
  },
  "papermill": {
   "default_parameters": {},
   "duration": 2290.390452,
   "end_time": "2021-08-07T01:53:46.816357",
   "environment_variables": {},
   "exception": null,
   "input_path": "__notebook__.ipynb",
   "output_path": "__notebook__.ipynb",
   "parameters": {},
   "start_time": "2021-08-07T01:15:36.425905",
   "version": "2.3.3"
  }
 },
 "nbformat": 4,
 "nbformat_minor": 5
}
